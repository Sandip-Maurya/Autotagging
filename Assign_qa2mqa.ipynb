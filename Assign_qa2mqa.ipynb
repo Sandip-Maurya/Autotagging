{
 "cells": [
  {
   "cell_type": "code",
   "execution_count": 2,
   "id": "b1a9dd0c-f455-435d-a200-1eaf07f311ba",
   "metadata": {},
   "outputs": [],
   "source": [
    "import datetime, re\n",
    "from loginAdminByRequests import *\n",
    "target_date = datetime.datetime.today().strftime('%Y-%m-%d')\n"
   ]
  },
  {
   "cell_type": "code",
   "execution_count": 3,
   "id": "cb34ff7d-3618-4ff2-a52c-e53feb23877a",
   "metadata": {},
   "outputs": [
    {
     "name": "stdout",
     "output_type": "stream",
     "text": [
      "<Response [200]>\n"
     ]
    }
   ],
   "source": [
    "client, csrf_token = log_in_admin()\n",
    "# csrf_token"
   ]
  },
  {
   "cell_type": "code",
   "execution_count": 13,
   "id": "cc293c5d-4c95-40af-9b9f-f60af70b4b73",
   "metadata": {},
   "outputs": [
    {
     "data": {
      "text/plain": [
       "array([449, 579, 343, 559, 344, 571, 334, 216, 592, 381, 380, 379, 296,\n",
       "       295, 451, 220, 116, 418, 417, 416, 415, 414, 413, 412, 398, 419,\n",
       "       397, 586, 537, 539,  97, 504, 280], dtype=int64)"
      ]
     },
     "execution_count": 13,
     "metadata": {},
     "output_type": "execute_result"
    }
   ],
   "source": [
    "import pandas as pd\n",
    "\n",
    "df = pd.read_csv('chem_qa_with_ids.csv')\n",
    "sme_ids = df['ids'].values\n",
    "sme_ids\n",
    "# df[:2]"
   ]
  },
  {
   "cell_type": "code",
   "execution_count": 19,
   "id": "dcf677d1-a64f-445b-a2d6-647a04ef6767",
   "metadata": {},
   "outputs": [
    {
     "name": "stdout",
     "output_type": "stream",
     "text": [
      "0 Shubhamqa\n",
      "0 Shifali Bajaj\n",
      "0 Saurabh Rai\n",
      "0 Rolly Sharda\n",
      "0 Rahul Singh\n",
      "0 Priyanka Chhabra\n",
      "0 PrashantQA\n",
      "0 Lovedhar QA\n",
      "5 Kokil Jain\n",
      "102 Issacchem5\n",
      "157 Issacchem4\n",
      "40 Issacchem3\n",
      "0 Issacchem2\n",
      "0 Issacchem1\n",
      "0 GeetaPriyaQA\n",
      "0 Durgesh Tiwari\n",
      "0 Debarati Mitra QA\n",
      "0 Cnechem9\n",
      "0 Cnechem8\n",
      "0 Cnechem7\n",
      "0 Cnechem6\n",
      "0 Cnechem5\n",
      "0 Cnechem4\n",
      "0 Cnechem3\n",
      "0 Cnechem2\n",
      "0 Cnechem10\n",
      "0 Cnechem1\n",
      "0 Chemnumerical\n",
      "0 Chem QA IIC\n",
      "0 AvinashKumarQAIIC\n",
      "0 Avinash\n",
      "0 Alok\n",
      "0 Aishwarya\n"
     ]
    }
   ],
   "source": [
    "# Search questions for assigning\n",
    "for sme_from in sme_ids:\n",
    "\n",
    "    assign_url = 'https://admin.qandi.com/assign-sme-question'\n",
    "    planner_url = 'https://admin.qandi.com/add-planner-sme'\n",
    "    # sme_from = 592 # 592 for Kokil Jain QA ID\n",
    "    sme_to = 542 # 542 for chemistrymqaiicmqa id\n",
    "    subject_id = 3 # 1 for math, 2 for phy, 3 for chemistry\n",
    "    exam_id = 1 # 1 for jee 2 for neet\n",
    "    question_category = 1 # 2 for pyp question_category, 1 for practice question_category\n",
    "    question_count = 1000\n",
    "    target_date = datetime.datetime.today().strftime('%Y-%m-%d')\n",
    "\n",
    "\n",
    "    payload = {\n",
    "        '_token': csrf_token,\n",
    "        'class_id': exam_id,\n",
    "        'subject_id[]': subject_id,\n",
    "        'user_type': 'masterQA',\n",
    "        'quesType': 'Added',\n",
    "        'sme_from': sme_from,\n",
    "        'sme_id': sme_to,\n",
    "        'question_count': question_count,\n",
    "        'target_date': target_date,\n",
    "        'question_category': question_category\n",
    "    }\n",
    "\n",
    "    res = client.post(assign_url, data=payload, cookies=client.cookies)\n",
    "    # print(res)\n",
    "    pattern = r'id=\"\\d{4,}\" value=\"(\\d{4,})\">'\n",
    "    raw_html = res.text\n",
    "    ids = re.findall(pattern, raw_html)\n",
    "    print(len(ids), df[df['ids']==sme_from]['names'].values[0])\n",
    "    # raw_html\n"
   ]
  },
  {
   "cell_type": "code",
   "execution_count": 19,
   "id": "834572c2-75c0-4e06-9224-0bd83a30bf27",
   "metadata": {},
   "outputs": [
    {
     "name": "stdout",
     "output_type": "stream",
     "text": [
      "<Response [200]>\n"
     ]
    },
    {
     "data": {
      "text/plain": [
       "['189275', '189273', '189271', '189263', '189262', '189261']"
      ]
     },
     "execution_count": 19,
     "metadata": {},
     "output_type": "execute_result"
    }
   ],
   "source": [
    "# Search questions for assigning\n",
    "\n",
    "assign_url = 'https://admin.qandi.com/assign-sme-question'\n",
    "planner_url = 'https://admin.qandi.com/add-planner-sme'\n",
    "sme_from = 592 # 592 for Kokil Jain QA ID\n",
    "sme_to = 542 # 542 for chemistrymqaiicmqa id\n",
    "subject_id = 3 # 1 for math, 2 for phy, 3 for chemistry\n",
    "exam_id = 1 # 1 for jee\n",
    "question_category = 1 # 2 for pyp question_category, 1 for practice question_category\n",
    "question_count = 6\n",
    "target_date = datetime.datetime.today().strftime('%Y-%m-%d')\n",
    "\n",
    "\n",
    "payload = {\n",
    "    '_token': csrf_token,\n",
    "    'class_id': exam_id,\n",
    "    'subject_id[]': subject_id,\n",
    "    'user_type': 'masterQA',\n",
    "    'quesType': 'Added',\n",
    "    'sme_from': sme_from,\n",
    "    'sme_id': sme_to,\n",
    "    'question_count': question_count,\n",
    "    'target_date': target_date,\n",
    "    'question_category': question_category\n",
    "}\n",
    "\n",
    "res = client.post(assign_url, data=payload, cookies=client.cookies)\n",
    "print(res)\n",
    "pattern = r'id=\"\\d{4,}\" value=\"(\\d{4,})\">'\n",
    "raw_html = res.text\n",
    "ids = re.findall(pattern, raw_html)\n",
    "print(len(ids))\n",
    "ids\n",
    "# raw_html\n"
   ]
  },
  {
   "cell_type": "code",
   "execution_count": 21,
   "id": "32608a69-ffe9-45c5-822e-bfcfee0c272c",
   "metadata": {},
   "outputs": [
    {
     "name": "stdout",
     "output_type": "stream",
     "text": [
      "<Response [200]>\n"
     ]
    },
    {
     "data": {
      "text/plain": [
       "['189275', '189273', '189271', '189262', '189261', '189260']"
      ]
     },
     "execution_count": 21,
     "metadata": {},
     "output_type": "execute_result"
    }
   ],
   "source": [
    "# Search questions for assigning\n",
    "\n",
    "assign_url = 'https://admin.qandi.com/assign-sme-question'\n",
    "planner_url = 'https://admin.qandi.com/add-planner-sme'\n",
    "sme_from = 592 # 592 for Kokil Jain QA ID\n",
    "sme_to = 542 # 542 for chemistrymqaiicmqa id\n",
    "subject_id = 3 # 1 for math, 2 for phy, 3 for chemistry\n",
    "exam_id = 1 # 1 for jee\n",
    "question_category = 1 # 2 for pyp question_category, 1 for practice question_category\n",
    "question_count = 6\n",
    "target_date = datetime.datetime.today().strftime('%Y-%m-%d')\n",
    "\n",
    "\n",
    "payload = {\n",
    "    '_token': csrf_token,\n",
    "    'class_id': exam_id,\n",
    "    'subject_id[]': subject_id,\n",
    "    'user_type': 'masterQA',\n",
    "    'quesType': 'Added',\n",
    "    'sme_from': sme_from,\n",
    "    'sme_id': sme_to,\n",
    "    'question_count': question_count,\n",
    "    'target_date': target_date,\n",
    "    'question_category': question_category\n",
    "}\n",
    "\n",
    "res = client.post(assign_url, data=payload, cookies=client.cookies)\n",
    "print(res)\n",
    "pattern = r'id=\"\\d{4,}\" value=\"(\\d{4,})\">'\n",
    "raw_html = res.text\n",
    "ids = re.findall(pattern, raw_html)\n",
    "print(len(ids))\n",
    "ids\n",
    "# raw_html\n"
   ]
  },
  {
   "cell_type": "code",
   "execution_count": 25,
   "id": "a35703b4-d5e4-4a9e-b695-ddebf882141f",
   "metadata": {},
   "outputs": [
    {
     "name": "stdout",
     "output_type": "stream",
     "text": [
      "<Response [200]>\n",
      "6\n"
     ]
    },
    {
     "data": {
      "text/plain": [
       "['189275', '189273', '189271', '189261', '189260', '189217']"
      ]
     },
     "execution_count": 25,
     "metadata": {},
     "output_type": "execute_result"
    }
   ],
   "source": [
    "# Search questions for assigning\n",
    "\n",
    "assign_url = 'https://admin.qandi.com/assign-sme-question'\n",
    "planner_url = 'https://admin.qandi.com/add-planner-sme'\n",
    "sme_from = 592 # 592 for Kokil Jain QA ID\n",
    "sme_to = 542 # 542 for chemistrymqaiicmqa id\n",
    "subject_id = 3 # 1 for math, 2 for phy, 3 for chemistry\n",
    "exam_id = 1 # 1 for jee\n",
    "question_category = 1 # 2 for pyp question_category, 1 for practice question_category\n",
    "question_count = 6\n",
    "target_date = datetime.datetime.today().strftime('%Y-%m-%d')\n",
    "\n",
    "\n",
    "payload = {\n",
    "    '_token': csrf_token,\n",
    "    'class_id': exam_id,\n",
    "    'subject_id[]': subject_id,\n",
    "    'user_type': 'masterQA',\n",
    "    'quesType': 'Added',\n",
    "    'sme_from': sme_from,\n",
    "    'sme_id': sme_to,\n",
    "    'question_count': question_count,\n",
    "    'target_date': target_date,\n",
    "    'question_category': question_category\n",
    "}\n",
    "\n",
    "res = client.post(assign_url, data=payload, cookies=client.cookies)\n",
    "print(res)\n",
    "pattern = r'id=\"\\d{4,}\" value=\"(\\d{4,})\">'\n",
    "raw_html = res.text\n",
    "ids = re.findall(pattern, raw_html)\n",
    "print(len(ids))\n",
    "ids\n",
    "# raw_html\n"
   ]
  },
  {
   "cell_type": "code",
   "execution_count": 27,
   "id": "f60e7b4e-b088-4ac1-b821-174d34845f6d",
   "metadata": {},
   "outputs": [
    {
     "name": "stdout",
     "output_type": "stream",
     "text": [
      "<Response [200]>\n",
      "6\n"
     ]
    },
    {
     "data": {
      "text/plain": [
       "['189273', '189271', '189261', '189260', '189217', '189109']"
      ]
     },
     "execution_count": 27,
     "metadata": {},
     "output_type": "execute_result"
    }
   ],
   "source": [
    "# Search questions for assigning\n",
    "\n",
    "assign_url = 'https://admin.qandi.com/assign-sme-question'\n",
    "planner_url = 'https://admin.qandi.com/add-planner-sme'\n",
    "sme_from = 592 # 592 for Kokil Jain QA ID\n",
    "sme_to = 542 # 542 for chemistrymqaiicmqa id\n",
    "subject_id = 3 # 1 for math, 2 for phy, 3 for chemistry\n",
    "exam_id = 1 # 1 for jee\n",
    "question_category = 1 # 2 for pyp question_category, 1 for practice question_category\n",
    "question_count = 6\n",
    "target_date = datetime.datetime.today().strftime('%Y-%m-%d')\n",
    "\n",
    "\n",
    "payload = {\n",
    "    '_token': csrf_token,\n",
    "    'class_id': exam_id,\n",
    "    'subject_id[]': subject_id,\n",
    "    'user_type': 'masterQA',\n",
    "    'quesType': 'Added',\n",
    "    'sme_from': sme_from,\n",
    "    'sme_id': sme_to,\n",
    "    'question_count': question_count,\n",
    "    'target_date': target_date,\n",
    "    'question_category': question_category\n",
    "}\n",
    "\n",
    "res = client.post(assign_url, data=payload, cookies=client.cookies)\n",
    "print(res)\n",
    "pattern = r'id=\"\\d{4,}\" value=\"(\\d{4,})\">'\n",
    "raw_html = res.text\n",
    "ids = re.findall(pattern, raw_html)\n",
    "print(len(ids))\n",
    "ids\n",
    "# raw_html\n"
   ]
  },
  {
   "cell_type": "code",
   "execution_count": 44,
   "id": "10679a9d-4042-43b9-8252-48175fde2dfa",
   "metadata": {},
   "outputs": [
    {
     "name": "stdout",
     "output_type": "stream",
     "text": [
      "<Response [200]>\n",
      "2\n"
     ]
    },
    {
     "data": {
      "text/plain": [
       "['188721', '188680']"
      ]
     },
     "execution_count": 44,
     "metadata": {},
     "output_type": "execute_result"
    }
   ],
   "source": [
    "# Search questions for assigning\n",
    "\n",
    "assign_url = 'https://admin.qandi.com/assign-sme-question'\n",
    "planner_url = 'https://admin.qandi.com/add-planner-sme'\n",
    "sme_from = 592 # 592 for Kokil Jain QA ID\n",
    "sme_to = 542 # 542 for chemistrymqaiicmqa id\n",
    "subject_id = 3 # 1 for math, 2 for phy, 3 for chemistry\n",
    "exam_id = 1 # 1 for jee\n",
    "question_category = 1 # 2 for pyp question_category, 1 for practice question_category\n",
    "question_count = 6\n",
    "target_date = datetime.datetime.today().strftime('%Y-%m-%d')\n",
    "\n",
    "\n",
    "payload = {\n",
    "    '_token': csrf_token,\n",
    "    'class_id': exam_id,\n",
    "    'subject_id[]': subject_id,\n",
    "    'user_type': 'masterQA',\n",
    "    'quesType': 'Added',\n",
    "    'sme_from': sme_from,\n",
    "    'sme_id': sme_to,\n",
    "    'question_count': question_count,\n",
    "    'target_date': target_date,\n",
    "    'question_category': question_category\n",
    "}\n",
    "\n",
    "res = client.post(assign_url, data=payload, cookies=client.cookies)\n",
    "print(res)\n",
    "pattern = r'id=\"\\d{4,}\" value=\"(\\d{4,})\">'\n",
    "raw_html = res.text\n",
    "ids = re.findall(pattern, raw_html)\n",
    "print(len(ids))\n",
    "ids\n",
    "# raw_html\n"
   ]
  },
  {
   "cell_type": "code",
   "execution_count": 47,
   "id": "7a0db046-ceb5-4d53-a6ff-b2fab25fa5f7",
   "metadata": {},
   "outputs": [
    {
     "data": {
      "text/plain": [
       "<Response [200]>"
      ]
     },
     "execution_count": 47,
     "metadata": {},
     "output_type": "execute_result"
    }
   ],
   "source": [
    "# Assign questions \n",
    "question_count = 1\n",
    "\n",
    "payload = {\n",
    "    \n",
    "    'class_id': exam_id,\n",
    "    'sme_from': sme_from,\n",
    "    'sme_id': sme_to,\n",
    "    'question_count': question_count,\n",
    "    'target_date': target_date,\n",
    "    'quesType': 'Added',\n",
    "    'user_type': 'masterQA',\n",
    "    '_token': csrf_token,\n",
    "    'subject_id[]': subject_id,\n",
    "    'question_id[]': ids[0],\n",
    "\n",
    "    \n",
    "}\n",
    "\n",
    "res = client.post(planner_url, data=payload, cookies=client.cookies)\n",
    "res\n"
   ]
  },
  {
   "cell_type": "code",
   "execution_count": 48,
   "id": "198cc128-db07-4e08-9a0a-30fcdeed3b37",
   "metadata": {},
   "outputs": [
    {
     "name": "stdout",
     "output_type": "stream",
     "text": [
      "<Response [200]>\n",
      "0\n"
     ]
    },
    {
     "data": {
      "text/plain": [
       "[]"
      ]
     },
     "execution_count": 48,
     "metadata": {},
     "output_type": "execute_result"
    }
   ],
   "source": [
    "# Search questions for assigning\n",
    "\n",
    "assign_url = 'https://admin.qandi.com/assign-sme-question'\n",
    "planner_url = 'https://admin.qandi.com/add-planner-sme'\n",
    "sme_from = 592 # 592 for Kokil Jain QA ID\n",
    "sme_to = 542 # 542 for chemistrymqaiicmqa id\n",
    "subject_id = 3 # 1 for math, 2 for phy, 3 for chemistry\n",
    "exam_id = 1 # 1 for jee\n",
    "question_category = 1 # 2 for pyp question_category, 1 for practice question_category\n",
    "question_count = 6\n",
    "target_date = datetime.datetime.today().strftime('%Y-%m-%d')\n",
    "\n",
    "\n",
    "payload = {\n",
    "    '_token': csrf_token,\n",
    "    'class_id': exam_id,\n",
    "    'subject_id[]': subject_id,\n",
    "    'user_type': 'masterQA',\n",
    "    'quesType': 'Added',\n",
    "    'sme_from': sme_from,\n",
    "    'sme_id': sme_to,\n",
    "    'question_count': question_count,\n",
    "    'target_date': target_date,\n",
    "    'question_category': question_category\n",
    "}\n",
    "\n",
    "res = client.post(assign_url, data=payload, cookies=client.cookies)\n",
    "print(res)\n",
    "pattern = r'id=\"\\d{4,}\" value=\"(\\d{4,})\">'\n",
    "raw_html = res.text\n",
    "ids = re.findall(pattern, raw_html)\n",
    "print(len(ids))\n",
    "ids\n",
    "# raw_html\n"
   ]
  },
  {
   "cell_type": "code",
   "execution_count": null,
   "id": "2df373e1-4d5c-4832-86e8-b6bc83510c44",
   "metadata": {},
   "outputs": [],
   "source": [
    "sme_from = 98 # for Sandip Maurya SME ID\n",
    "sme_to = 453 # Sandip Maurya QA ID\n",
    "subject_id = 1 # 1 for math\n",
    "exam_id = 1 # 1 for jee\n",
    "question_category = 2 # for pyp question_category is 2, for question_category is 1\n",
    "question_count = 1\n"
   ]
  },
  {
   "cell_type": "code",
   "execution_count": null,
   "id": "37f7d307-4e0a-4a22-b70d-985e1bb448c4",
   "metadata": {},
   "outputs": [],
   "source": []
  }
 ],
 "metadata": {
  "kernelspec": {
   "display_name": "Python 3 (ipykernel)",
   "language": "python",
   "name": "python3"
  },
  "language_info": {
   "codemirror_mode": {
    "name": "ipython",
    "version": 3
   },
   "file_extension": ".py",
   "mimetype": "text/x-python",
   "name": "python",
   "nbconvert_exporter": "python",
   "pygments_lexer": "ipython3",
   "version": "3.9.7"
  }
 },
 "nbformat": 4,
 "nbformat_minor": 5
}
