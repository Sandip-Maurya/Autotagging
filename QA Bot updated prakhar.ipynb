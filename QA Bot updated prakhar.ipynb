{
 "cells": [
  {
   "cell_type": "code",
   "execution_count": 4,
   "id": "a2a5d9a8",
   "metadata": {},
   "outputs": [],
   "source": [
    "# Input and Import\n",
    "\n",
    "# user_id = 'chemistrymqaiic@gmail.com'\n",
    "# user_id = 'physicsphaseII@gmail.com'\n",
    "# user_id = 'aditimqa@thomsondigital.com'\n",
    "# user_id = 'sandipmqa2@gmail.com'\n",
    "# user_id = 'NishaIIMQA@gmail.com'\n",
    "# user_id = 'adityaMQA@gmail.com'\n",
    "# user_id = 'prakharQA@gmail.com'; passw0rd = '1636777942000'\n",
    "# user_id = 'divyamqa@thomsondigital.com'\n",
    "# user_id = 'divyaIImqa@thomsondigital.com'\n",
    "user_id = 'alokqa@gmail.com'; passw0rd = 'P@ssw0rd'\n",
    "\n",
    "\n",
    "# url = 'https://www.uniqrank.com/admin'\n",
    "url = 'https://admin.qandi.com/admin' # change this url(link) when new url comes\n",
    "import re\n",
    "import time\n",
    "import datetime\n",
    "from selenium.common.exceptions import NoSuchElementException\n",
    "main_url = url.replace('.com/admin', '.com')\n",
    "qa_list_url = f'{main_url}/qa-question-list'\n",
    "status_xp = '//*[@id=\"select-status\"]/option[2]'\n",
    "sub_xpath = '//*[@id=\"editauthoringform\"]/div[4]/div[2]/div[4]/div[2]/button'\n",
    "sub2 = '//*[@id=\"editauthoringform\"]/div[5]/div[2]/div[4]/div[2]/button'\n"
   ]
  },
  {
   "cell_type": "code",
   "execution_count": 2,
   "id": "167bd05c",
   "metadata": {},
   "outputs": [
    {
     "name": "stderr",
     "output_type": "stream",
     "text": [
      "\n",
      "\n",
      "====== WebDriver manager ======\n",
      "Current google-chrome version is 103.0.5060\n",
      "Get LATEST chromedriver version for 103.0.5060 google-chrome\n",
      "Trying to download new driver from https://chromedriver.storage.googleapis.com/103.0.5060.53/chromedriver_win32.zip\n",
      "Driver has been saved in cache [C:\\Users\\USER\\.wdm\\drivers\\chromedriver\\win32\\103.0.5060.53]\n"
     ]
    }
   ],
   "source": [
    "# Starts the chrome browser and imports shortcuts\n",
    "\n",
    "from sel_shortcuts import *"
   ]
  },
  {
   "cell_type": "code",
   "execution_count": 5,
   "id": "6576c917",
   "metadata": {},
   "outputs": [],
   "source": [
    "# Log in\n",
    "\n",
    "driver.get(url)\n",
    "login_uniq(url_login = url, username = user_id, role = 8, password=passw0rd)"
   ]
  },
  {
   "cell_type": "code",
   "execution_count": null,
   "id": "d46e47d4-92a5-4a4d-8cdc-a073a3ded310",
   "metadata": {},
   "outputs": [],
   "source": []
  },
  {
   "cell_type": "code",
   "execution_count": 6,
   "id": "6dcf3b9d-a9a9-41ef-89d9-ee1e33b291a6",
   "metadata": {
    "scrolled": true,
    "tags": []
   },
   "outputs": [
    {
     "name": "stderr",
     "output_type": "stream",
     "text": [
      "C:\\Users\\USER\\AppData\\Local\\Temp\\ipykernel_4204\\1942534523.py:12: DeprecationWarning: find_element_by_* commands are deprecated. Please use find_element() instead\n",
      "  while not 'disabled' in driver.find_element_by_xpath(next_xp).get_attribute('class') and len(q_ids):\n"
     ]
    },
    {
     "name": "stdout",
     "output_type": "stream",
     "text": [
      "Total questions: 30\n",
      "Total QA done: 1, Error count: 0\n",
      "Total QA done: 2, Error count: 0\n",
      "Total QA done: 3, Error count: 0\n",
      "Total QA done: 4, Error count: 0\n",
      "Total QA done: 5, Error count: 0\n",
      "Total QA done: 6, Error count: 0\n",
      "Total QA done: 7, Error count: 0\n",
      "Total QA done: 8, Error count: 0\n",
      "Total QA done: 9, Error count: 0\n",
      "Total QA done: 10, Error count: 0\n",
      "Total QA done: 11, Error count: 0\n",
      "Total QA done: 12, Error count: 0\n",
      "Total QA done: 13, Error count: 0\n",
      "Total QA done: 14, Error count: 0\n",
      "Total QA done: 15, Error count: 0\n",
      "Total QA done: 16, Error count: 0\n",
      "Total QA done: 17, Error count: 0\n",
      "Total QA done: 18, Error count: 0\n",
      "Total QA done: 19, Error count: 0\n",
      "Total QA done: 20, Error count: 0\n",
      "Total QA done: 21, Error count: 0\n",
      "Total QA done: 22, Error count: 0\n",
      "Total QA done: 23, Error count: 0\n",
      "Total QA done: 24, Error count: 0\n",
      "Total QA done: 25, Error count: 0\n",
      "Total QA done: 26, Error count: 0\n",
      "Total QA done: 27, Error count: 0\n",
      "Total QA done: 28, Error count: 0\n",
      "Total QA done: 29, Error count: 0\n",
      "Total QA done: 30, Error count: 0\n",
      "Done\n"
     ]
    },
    {
     "data": {
      "text/plain": [
       "{'status': 'ok', 'restart': True}"
      ]
     },
     "execution_count": 6,
     "metadata": {},
     "output_type": "execute_result"
    }
   ],
   "source": [
    "# QA Starts\n",
    "pattern = r'''<div id=\"reviewstatus_(\\d{5,})\">\\n.*?Tagged\\n.*?</div>'''\n",
    "\n",
    "q_ids = []\n",
    "driver.get(qa_list_url)\n",
    "\n",
    "page_source = driver.page_source\n",
    "q_id1 = re.findall(pattern, page_source)\n",
    "q_ids += q_id1\n",
    "\n",
    "next_xp = '//*[@id=\"questionlisttable_next\"]'\n",
    "while not 'disabled' in driver.find_element_by_xpath(next_xp).get_attribute('class') and len(q_ids):\n",
    "    click(next_xp)\n",
    "    page_source = driver.page_source\n",
    "    q_id1 = re.findall(pattern, page_source)\n",
    "    q_ids += q_id1\n",
    "    \n",
    "q_ids = list(set(q_ids))\n",
    "q_ids = [int(i) for i in q_ids if i.isdigit()]\n",
    "\n",
    "print(f'Total questions: {len(q_ids)}')\n",
    "count = 0\n",
    "err_count = 0\n",
    "for q_id in q_ids[:]:\n",
    "    try:\n",
    "        edit_url = f'{main_url}/edit-sme-question/{q_id}'\n",
    "        driver.get(edit_url)\n",
    "\n",
    "        click(status_xp)\n",
    "        try:\n",
    "            click(sub_xpath)\n",
    "        except NoSuchElementException:\n",
    "            click(sub2)\n",
    "        count +=1\n",
    "        print(f'Total QA done: {count}', end=', ')\n",
    "        \n",
    "    except Exception as e:\n",
    "        print(e)\n",
    "        err_count += 1\n",
    "    # print(f'Remaining Questions: {len(q_ids)-count-err_count}')\n",
    "    print(f'Error count: {err_count}')\n",
    "print('Done')\n",
    "import IPython\n",
    "IPython.Application.instance().kernel.do_shutdown(True)\n"
   ]
  },
  {
   "cell_type": "code",
   "execution_count": null,
   "id": "d486f890-118c-457c-84f6-c6006aa365b8",
   "metadata": {
    "scrolled": true,
    "tags": []
   },
   "outputs": [],
   "source": []
  },
  {
   "cell_type": "code",
   "execution_count": null,
   "id": "630903e4-e72e-4803-b38b-cf0c578175c1",
   "metadata": {},
   "outputs": [],
   "source": []
  },
  {
   "cell_type": "code",
   "execution_count": null,
   "id": "d79e374a-bee9-4861-8d05-63a4c271c558",
   "metadata": {},
   "outputs": [],
   "source": []
  },
  {
   "cell_type": "code",
   "execution_count": null,
   "id": "d77885a2-95a5-4cf6-b6e3-b9f08cc36e90",
   "metadata": {},
   "outputs": [],
   "source": []
  },
  {
   "cell_type": "code",
   "execution_count": null,
   "id": "eec7fbea-a0ea-427f-b4b6-fb595a3b732d",
   "metadata": {},
   "outputs": [],
   "source": []
  }
 ],
 "metadata": {
  "kernelspec": {
   "display_name": "Python 3 (ipykernel)",
   "language": "python",
   "name": "python3"
  },
  "language_info": {
   "codemirror_mode": {
    "name": "ipython",
    "version": 3
   },
   "file_extension": ".py",
   "mimetype": "text/x-python",
   "name": "python",
   "nbconvert_exporter": "python",
   "pygments_lexer": "ipython3",
   "version": "3.9.7"
  }
 },
 "nbformat": 4,
 "nbformat_minor": 5
}
