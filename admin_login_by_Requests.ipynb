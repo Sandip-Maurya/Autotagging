{
 "cells": [
  {
   "cell_type": "code",
   "execution_count": 1,
   "id": "029b6f6b-f869-4486-abfe-fe42f6fc794e",
   "metadata": {},
   "outputs": [],
   "source": [
    "# from loginAdminByRequests import *\n",
    "from loginAdminByRequests import log_in_admin\n"
   ]
  },
  {
   "cell_type": "code",
   "execution_count": 2,
   "id": "f792c9ab-1427-46af-8c60-bcbed601a0e7",
   "metadata": {},
   "outputs": [
    {
     "name": "stdout",
     "output_type": "stream",
     "text": [
      "<Response [200]>\n"
     ]
    }
   ],
   "source": [
    "\n",
    "client, csrf_token = log_in_admin()\n"
   ]
  },
  {
   "cell_type": "code",
   "execution_count": 3,
   "id": "237dce87-0447-441b-a19b-2184ccfdca7c",
   "metadata": {},
   "outputs": [
    {
     "data": {
      "text/plain": [
       "<Response [200]>"
      ]
     },
     "execution_count": 3,
     "metadata": {},
     "output_type": "execute_result"
    }
   ],
   "source": [
    "\n",
    "url = 'https://admin.qandi.com/editnewquestionauth/23457'\n",
    "res = client.get(url)\n",
    "res"
   ]
  },
  {
   "cell_type": "code",
   "execution_count": 4,
   "id": "6f8c4e0f-760b-4aa9-8d74-0e2bcf2c1244",
   "metadata": {},
   "outputs": [],
   "source": [
    "html_doc = res.text"
   ]
  },
  {
   "cell_type": "code",
   "execution_count": null,
   "id": "eb9049e5-71ac-480d-8a14-0ff6ebee3ab4",
   "metadata": {},
   "outputs": [],
   "source": [
    "from bs4 import BeautifulSoup\n",
    "soup = BeautifulSoup(html_doc, 'html.parser')\n"
   ]
  },
  {
   "cell_type": "code",
   "execution_count": 7,
   "id": "585e4d87-c893-4272-af8b-507cee2cbdb8",
   "metadata": {},
   "outputs": [
    {
     "data": {
      "text/plain": [
       "bs4.BeautifulSoup"
      ]
     },
     "execution_count": 7,
     "metadata": {},
     "output_type": "execute_result"
    }
   ],
   "source": [
    "type(soup)"
   ]
  },
  {
   "cell_type": "code",
   "execution_count": null,
   "id": "13dec77f-d9df-438e-8882-321e6dbe3389",
   "metadata": {},
   "outputs": [],
   "source": []
  }
 ],
 "metadata": {
  "kernelspec": {
   "display_name": "Python 3 (ipykernel)",
   "language": "python",
   "name": "python3"
  },
  "language_info": {
   "codemirror_mode": {
    "name": "ipython",
    "version": 3
   },
   "file_extension": ".py",
   "mimetype": "text/x-python",
   "name": "python",
   "nbconvert_exporter": "python",
   "pygments_lexer": "ipython3",
   "version": "3.9.7"
  }
 },
 "nbformat": 4,
 "nbformat_minor": 5
}
