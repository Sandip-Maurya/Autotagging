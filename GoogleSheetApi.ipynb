{
 "cells": [
  {
   "cell_type": "code",
   "execution_count": 10,
   "id": "dc65b376-53cd-4d53-a4ab-a656e816e3c1",
   "metadata": {},
   "outputs": [],
   "source": [
    "# Link to set up and use google sheet with python\n",
    "# https://www.makeuseof.com/tag/read-write-google-sheets-python/\n",
    "\n",
    "# pip install --upgrade google-api-python-client google-auth-httplib2 google-auth-oauthlib\n",
    "# pip install oauth2client\n",
    "# pip install PyOpenSSL\n",
    "# pip install gspread\n",
    "\n",
    "from oauth2client.service_account import ServiceAccountCredentials\n",
    "import gspread\n",
    "import json\n",
    "import pandas as pd\n",
    "\n",
    "scopes = [\n",
    "'https://www.googleapis.com/auth/spreadsheets',\n",
    "'https://www.googleapis.com/auth/drive'\n",
    "]\n",
    "\n",
    "credentials = ServiceAccountCredentials.from_json_keyfile_name(\"cred.json\", scopes) #access the json key you downloaded earlier \n",
    "file = gspread.authorize(credentials) # authenticate the JSON key with gspread\n",
    "sheet = file.open(\"Questions IDs record\")  #open sheet\n",
    "q_id_record_tab = sheet.worksheet('q_id_record_tab') #open tab\n"
   ]
  },
  {
   "cell_type": "code",
   "execution_count": 30,
   "id": "445f7b26-25b9-424f-836c-4473f12b5b22",
   "metadata": {},
   "outputs": [],
   "source": [
    "# Data must be 2d. Number of rows in the data should be atleast one and number of columns should be 4\n",
    "\n",
    "def append_record(data):\n",
    "    if len(data) >= 1 and len(data[0])==4:\n",
    "        q_id_record_tab.append_rows(data)\n",
    "        return 'Question data updated in the google sheet successfully'\n",
    "    else:\n",
    "        return 'Please check the data format. Data should be a list of 2 dimensions with column size as 4'\n"
   ]
  },
  {
   "cell_type": "code",
   "execution_count": 29,
   "id": "99b0f702-8417-488d-a0fc-0602b2696223",
   "metadata": {},
   "outputs": [],
   "source": [
    "def get_all_values_from_google_sheet():\n",
    "    all_values = q_id_record_tab.get_all_values()\n",
    "    return all_values\n"
   ]
  },
  {
   "cell_type": "code",
   "execution_count": 28,
   "id": "c5d63fdd-06bf-4f30-9779-67365b2bab79",
   "metadata": {},
   "outputs": [],
   "source": [
    "# df = pd.DataFrame(all_values[1:], columns = all_values[0])\n",
    "# df"
   ]
  },
  {
   "cell_type": "code",
   "execution_count": null,
   "id": "4409d59c-66f7-4825-be8f-117eaf2dde93",
   "metadata": {},
   "outputs": [],
   "source": []
  },
  {
   "cell_type": "code",
   "execution_count": 26,
   "id": "90804314-d496-4b97-8c7f-87d21ebcfc14",
   "metadata": {},
   "outputs": [],
   "source": [
    "# q_id_record_tab.update('A1:D1', [['Q. ID', 'Date', 'SME ID', 'Status']])\n",
    "# q_id_record_tab.get_all_values()\n"
   ]
  },
  {
   "cell_type": "code",
   "execution_count": 27,
   "id": "b322095c-53ce-4776-8eb9-6f7cdcdc3856",
   "metadata": {},
   "outputs": [],
   "source": [
    "# q_id_record_tab.append_rows([[1,2,3,4], [11,2,2,3], [3,3,3,3]])\n",
    "# q_id_record_tab.get_all_values()\n"
   ]
  },
  {
   "cell_type": "code",
   "execution_count": 31,
   "id": "fc43d165-f0cf-45db-8972-e94ad736aebd",
   "metadata": {},
   "outputs": [],
   "source": [
    "# data = [['ram', 'shyam', 'ghanshyam', 'mohan']]\n",
    "# append_record(data)\n"
   ]
  },
  {
   "cell_type": "code",
   "execution_count": 36,
   "id": "b6090c52-bd9f-4678-b76f-91e343023b9b",
   "metadata": {},
   "outputs": [],
   "source": []
  },
  {
   "cell_type": "code",
   "execution_count": 62,
   "id": "b64cb8a1-fb87-46f7-90b9-50b82d4c1d0d",
   "metadata": {},
   "outputs": [
    {
     "name": "stdout",
     "output_type": "stream",
     "text": [
      "7\n"
     ]
    }
   ],
   "source": [
    "# cmd = 'python \"' + os.path.join( (os.getcwd()), 'run_by_other_code.py' ) +'\"'\n"
   ]
  },
  {
   "cell_type": "code",
   "execution_count": 56,
   "id": "b00917b0-426e-48ea-9d98-612ae28db18c",
   "metadata": {},
   "outputs": [
    {
     "name": "stdout",
     "output_type": "stream",
     "text": [
      "\n"
     ]
    }
   ],
   "source": []
  },
  {
   "cell_type": "code",
   "execution_count": null,
   "id": "a214daa7-7825-45f3-85a9-d32a4c015978",
   "metadata": {},
   "outputs": [],
   "source": []
  },
  {
   "cell_type": "code",
   "execution_count": null,
   "id": "cba8c43a-b846-4e92-9f17-edbc31d5e091",
   "metadata": {},
   "outputs": [],
   "source": []
  }
 ],
 "metadata": {
  "kernelspec": {
   "display_name": "Python 3 (ipykernel)",
   "language": "python",
   "name": "python3"
  },
  "language_info": {
   "codemirror_mode": {
    "name": "ipython",
    "version": 3
   },
   "file_extension": ".py",
   "mimetype": "text/x-python",
   "name": "python",
   "nbconvert_exporter": "python",
   "pygments_lexer": "ipython3",
   "version": "3.9.7"
  }
 },
 "nbformat": 4,
 "nbformat_minor": 5
}
