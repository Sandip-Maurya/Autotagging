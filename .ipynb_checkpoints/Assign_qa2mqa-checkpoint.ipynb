{
 "cells": [
  {
   "cell_type": "code",
   "execution_count": 8,
   "id": "b1a9dd0c-f455-435d-a200-1eaf07f311ba",
   "metadata": {},
   "outputs": [],
   "source": [
    "import datetime, re\n",
    "from loginAdminByRequests import *\n",
    "target_date = datetime.datetime.today().strftime('%Y-%m-%d')\n"
   ]
  },
  {
   "cell_type": "code",
   "execution_count": 2,
   "id": "cb34ff7d-3618-4ff2-a52c-e53feb23877a",
   "metadata": {},
   "outputs": [
    {
     "name": "stdout",
     "output_type": "stream",
     "text": [
      "<Response [200]>\n"
     ]
    },
    {
     "data": {
      "text/plain": [
       "'4mdcv7cKbRhyHxe6YzvA6bP3Kow4wTSfM0YcFQOS'"
      ]
     },
     "execution_count": 2,
     "metadata": {},
     "output_type": "execute_result"
    }
   ],
   "source": [
    "client, csrf_token = log_in_admin()\n",
    "csrf_token"
   ]
  },
  {
   "cell_type": "code",
   "execution_count": 19,
   "id": "dcf677d1-a64f-445b-a2d6-647a04ef6767",
   "metadata": {},
   "outputs": [],
   "source": [
    "# Search questions for assigning\n",
    "\n",
    "assign_url = 'https://admin.qandi.com/assign-sme-question'\n",
    "sme_from = 69 # for Sandip Maurya SME ID\n",
    "sme_to = 98 # Sandip Maurya QA ID\n",
    "subject_id = 1 # 1 for math\n",
    "exam_id = 1 # 1 for jee\n",
    "question_category = 2 # for pyp\n",
    "question_count = 2\n",
    "\n",
    "payload = {\n",
    "    '_token': csrf_token,\n",
    "    'class_id': exam_id,\n",
    "    'subject_id[]': subject_id,\n",
    "    'user_type': 'QA',\n",
    "    'quesType': 'Added',\n",
    "    'sme_from': sme_from,\n",
    "    'sme_id': sme_to,\n",
    "    'question_count': question_count,\n",
    "    'target_date': target_date,\n",
    "    'question_category': question_category\n",
    "}\n"
   ]
  },
  {
   "cell_type": "code",
   "execution_count": 20,
   "id": "2df373e1-4d5c-4832-86e8-b6bc83510c44",
   "metadata": {},
   "outputs": [
    {
     "name": "stdout",
     "output_type": "stream",
     "text": [
      "<Response [200]>\n"
     ]
    },
    {
     "data": {
      "text/plain": [
       "['185567', '185559']"
      ]
     },
     "execution_count": 20,
     "metadata": {},
     "output_type": "execute_result"
    }
   ],
   "source": [
    "\n",
    "res = client.post(assign_url, data=payload, cookies=client.cookies)\n",
    "print(res)\n",
    "pattern = r'id=\"\\d{4,}\" value=\"(\\d{4,})\">'\n",
    "raw_html = res.text\n",
    "ids = re.findall(pattern, raw_html)\n",
    "ids\n",
    "# raw_html"
   ]
  },
  {
   "cell_type": "code",
   "execution_count": null,
   "id": "0b459e11-9a7f-4210-906a-53d8db9d50da",
   "metadata": {},
   "outputs": [],
   "source": []
  },
  {
   "cell_type": "code",
   "execution_count": 18,
   "id": "4f65adf6-a7e1-44d7-ab75-c02353e19ceb",
   "metadata": {
    "scrolled": true,
    "tags": []
   },
   "outputs": [],
   "source": [
    "'''\n",
    "class_id: 1\n",
    "sme_from: 69\n",
    "sme_id: 98\n",
    "question_count: 2\n",
    "target_date: 2022-06-17\n",
    "ques_type: Added\n",
    "user_type: QA\n",
    "_token: ES1DorzjE8XODNRdpVASKhatGyuFz36sIeBAdO4f\n",
    "question_id[]: 185569\n",
    "edit_version[]: 1\n",
    "subject_id[]: 1\n",
    "question_id[]: 185568\n",
    "edit_version[]: 2\n",
    "subject_id[]: 1\n",
    "'''"
   ]
  },
  {
   "cell_type": "code",
   "execution_count": 21,
   "id": "7a0db046-ceb5-4d53-a6ff-b2fab25fa5f7",
   "metadata": {},
   "outputs": [],
   "source": [
    "# Assign questions \n",
    "\n",
    "planner_url = 'https://admin.qandi.com/add-planner-sme'\n",
    "target_date = datetime.datetime.today().strftime('%Y-%m-%d')\n",
    "sme_from = 69 # for Sandip Maurya SME id\n",
    "sme_to = 98\n",
    "\n",
    "subject_id = 1 # 1 for math\n",
    "exam_id = 1 # 1 for jee\n",
    "\n",
    "payload = {\n",
    "    \n",
    "    'class_id': exam_id,\n",
    "    'sme_from': sme_from,\n",
    "    'sme_id': sme_to,\n",
    "    'question_count': '2',\n",
    "    \n",
    "    'target_date': target_date,\n",
    "    'quesType': 'Added',\n",
    "    'user_type': 'QA',\n",
    "    '_token': csrf_token,\n",
    "    'question_id[]': ids,\n",
    "}"
   ]
  },
  {
   "cell_type": "code",
   "execution_count": 22,
   "id": "fdfe078d-f0c5-4233-918d-6982ae1a5464",
   "metadata": {},
   "outputs": [
    {
     "data": {
      "text/plain": [
       "<Response [200]>"
      ]
     },
     "execution_count": 22,
     "metadata": {},
     "output_type": "execute_result"
    }
   ],
   "source": [
    "\n",
    "res = client.post(planner_url, data=payload, cookies=client.cookies)\n",
    "res"
   ]
  },
  {
   "cell_type": "code",
   "execution_count": null,
   "id": "9867b4aa-3532-4821-a5ee-e8ed08644856",
   "metadata": {},
   "outputs": [],
   "source": [
    "\n"
   ]
  },
  {
   "cell_type": "code",
   "execution_count": 5,
   "id": "2746cb6f-e1b1-4aa6-be9a-c3485995d3f2",
   "metadata": {
    "scrolled": true,
    "tags": []
   },
   "outputs": [],
   "source": []
  },
  {
   "cell_type": "code",
   "execution_count": null,
   "id": "a31921f1-a495-4d7e-97ad-ba4a1208b546",
   "metadata": {
    "tags": []
   },
   "outputs": [],
   "source": []
  },
  {
   "cell_type": "code",
   "execution_count": null,
   "id": "c0315846-baa1-46cf-8d34-f7983c39a134",
   "metadata": {},
   "outputs": [],
   "source": []
  },
  {
   "cell_type": "code",
   "execution_count": null,
   "id": "9826dcdd-4739-474d-90b7-a81215f5ee5a",
   "metadata": {},
   "outputs": [],
   "source": []
  },
  {
   "cell_type": "code",
   "execution_count": null,
   "id": "d3138f86-1535-4da8-bd03-1de8166e7527",
   "metadata": {},
   "outputs": [],
   "source": []
  },
  {
   "cell_type": "code",
   "execution_count": null,
   "id": "4825e577-8e85-4129-ab53-42a6300c2fdb",
   "metadata": {},
   "outputs": [],
   "source": []
  },
  {
   "cell_type": "code",
   "execution_count": null,
   "id": "7bb81e6f-564c-4db2-b070-f1d8950915d2",
   "metadata": {},
   "outputs": [],
   "source": []
  },
  {
   "cell_type": "code",
   "execution_count": null,
   "id": "a5854870-de90-4ba7-8110-5518a61b8a9c",
   "metadata": {},
   "outputs": [],
   "source": []
  },
  {
   "cell_type": "code",
   "execution_count": null,
   "id": "a22ffe2a-e5b2-4953-a07b-780f2499a232",
   "metadata": {},
   "outputs": [],
   "source": []
  },
  {
   "cell_type": "code",
   "execution_count": null,
   "id": "6725c727-7dbe-4147-aa56-c65e5ecd1f38",
   "metadata": {},
   "outputs": [],
   "source": [
    " "
   ]
  },
  {
   "cell_type": "code",
   "execution_count": null,
   "id": "5857d4b9-2996-426c-b9c4-39401d199cc4",
   "metadata": {},
   "outputs": [],
   "source": []
  },
  {
   "cell_type": "code",
   "execution_count": null,
   "id": "c17cc525-804e-4ee9-b77d-a6ea86605dba",
   "metadata": {},
   "outputs": [],
   "source": []
  },
  {
   "cell_type": "code",
   "execution_count": null,
   "id": "a74e7df1-8e80-4ec6-b681-4aeb05deaf9a",
   "metadata": {},
   "outputs": [],
   "source": []
  },
  {
   "cell_type": "code",
   "execution_count": null,
   "id": "71a1e452-445b-444a-915c-939bbf4e3e89",
   "metadata": {},
   "outputs": [],
   "source": []
  },
  {
   "cell_type": "code",
   "execution_count": null,
   "id": "2af37684-a225-43b4-a998-2ef3b6b1bb92",
   "metadata": {},
   "outputs": [],
   "source": []
  }
 ],
 "metadata": {
  "kernelspec": {
   "display_name": "Python 3 (ipykernel)",
   "language": "python",
   "name": "python3"
  },
  "language_info": {
   "codemirror_mode": {
    "name": "ipython",
    "version": 3
   },
   "file_extension": ".py",
   "mimetype": "text/x-python",
   "name": "python",
   "nbconvert_exporter": "python",
   "pygments_lexer": "ipython3",
   "version": "3.9.7"
  }
 },
 "nbformat": 4,
 "nbformat_minor": 5
}
